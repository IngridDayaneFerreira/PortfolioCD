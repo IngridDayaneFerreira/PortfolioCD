{
 "cells": [
  {
   "cell_type": "code",
   "execution_count": 3,
   "id": "f16ca54e",
   "metadata": {},
   "outputs": [
    {
     "name": "stdout",
     "output_type": "stream",
     "text": [
      "Se és capaz de manter a tua calma quando Todo o mundo ao teu redor já a perdeu e te culpa; De crer em ti quando estão todos duvidando, E para esses no entanto achar uma desculpa; Se és capaz de esperar sem te desesperares, Ou, enganado, não mentir ao mentiroso, Ou, sendo odiado, sempre ao ódio te esquivares, E não parecer bom demais, nem pretensioso; Se és capaz de pensar –sem que a isso só te atires, De sonhar –sem fazer dos sonhos teus senhores. Se encontrando a desgraça e o triunfo conseguires Tratar da mesma forma a esses dois impostores; Se és capaz de sofrer a dor de ver mudadas Em armadilhas as verdades que disseste, E as coisas, por que deste a vida, estraçalhadas, E refazê-las com o bem pouco que te reste; Se és capaz de arriscar numa única parada Tudo quanto ganhaste em toda a tua vida, E perder e, ao perder, sem nunca dizer nada, Resignado, tornar ao ponto de partida; De forçar coração, nervos, músculos, tudo A dar seja o que for que neles ainda existe, E a persistir assim quando, exaustos, contudo Resta a vontade em ti que ainda ordena: “Persiste!”; Se és capaz de, entre a plebe, não te corromperes E, entre reis, não perder a naturalidade, E de amigos, quer bons, quer maus, te defenderes, Se a todos podes ser de alguma utilidade, E se és capaz de dar, segundo por segundo, Ao minuto fatal todo o valor e brilho, Tua é a terra com tudo o que existe no mundo E o que mais – tu serás um homem, ó meu filho!\n",
      "\n",
      "Rudyard Kipling\n",
      "\n",
      "\n",
      "O teexto possui 39 virgulas.\n",
      "O texto possui 1452 caracteres.\n",
      "(38, 1452)\n"
     ]
    }
   ],
   "source": [
    "#Questão 1\n",
    "\n",
    "import re\n",
    "\n",
    "texto = 'Se és capaz de manter a tua calma quando Todo o mundo ao teu redor já a perdeu e te culpa; De crer em ti quando estão todos duvidando? E para esses no entanto achar uma desculpa; Se és capaz de esperar sem te desesperares? Ou? enganado? não mentir ao mentiroso? Ou? sendo odiado? sempre ao ódio te esquivares? E não parecer bom demais? nem pretensioso; Se és capaz de pensar –sem que a isso só te atires? De sonhar –sem fazer dos sonhos teus senhores. Se encontrando a desgraça e o triunfo conseguires Tratar da mesma forma a esses dois impostores; Se és capaz de sofrer a dor de ver mudadas Em armadilhas as verdades que disseste? E as coisas? por que deste a vida? estraçalhadas? E refazê-las com o bem pouco que te reste; Se és capaz de arriscar numa única parada Tudo quanto ganhaste em toda a tua vida? E perder e? ao perder? sem nunca dizer nada? Resignado? tornar ao ponto de partida; De forçar coração? nervos? músculos? tudo A dar seja o que for que neles ainda existe, E a persistir assim quando? exaustos? contudo Resta a vontade em ti que ainda ordena: “Persiste!”; Se és capaz de? entre a plebe? não te corromperes E? entre reis? não perder a naturalidade? E de amigos? quer bons? quer maus? te defenderes? Se a todos podes ser de alguma utilidade? E se és capaz de dar? segundo por segundo? Ao minuto fatal todo o valor e brilho? Tua é a terra com tudo o que existe no mundo E o que mais – tu serás um homem? ó meu filho!'\n",
    "texto_original = texto.replace('?', ',')\n",
    "\n",
    "try:\n",
    "    file = open('Se_RK.txt', 'w+')\n",
    "    file.write(texto_original)\n",
    "    file.write('\\n\\nRudyard Kipling')\n",
    "finally:\n",
    "    file.close()\n",
    "\n",
    "texto_com_apensamento = texto_original + '\\n\\nRudyard Kipling'\n",
    "\n",
    "contevirgula = 0\n",
    "for i in range(len(texto_com_apensamento)):\n",
    "    if (texto_com_apensamento[i] == ','):\n",
    "        contevirgula += 1\n",
    "\n",
    "print(texto_com_apensamento)\n",
    "print(f\"\\n\\nO teexto possui {contevirgula} virgulas.\")\n",
    "print(f\"O texto possui {len(texto_com_apensamento)} caracteres.\")\n",
    "#como já havia uma vírgula no texto, diminuimos uma vírgula do total da contagem.\n",
    "print((contevirgula - 1, len(texto_com_apensamento)))"
   ]
  },
  {
   "cell_type": "code",
   "execution_count": 1,
   "id": "270a5946",
   "metadata": {},
   "outputs": [
    {
     "name": "stdout",
     "output_type": "stream",
     "text": [
      "indubitavelmente\n"
     ]
    }
   ],
   "source": [
    "#Questão 3\n",
    "\n",
    "original = ['ʠ','ʡ','ʢ', 'ʣ','ʤ','ʥ','ʦ','ʧ','ʨ','ʩ','ʪ','ʫ','ʬ','ʭ','ʮ','ʯ','ΰ','α','β','γ','δ','ε','ζ','η','θ','ι']\n",
    "equivalente = ['a','b','c','d','e','f','g','h','i','j','k','l','m','n','o','p','q','r','s','t','u','v','w','x','y','z']\n",
    "\n",
    "mensagem = 'ʨʭʣδʡʨγʠεʤʫʬʤʭγʤ'\n",
    "decod = ''\n",
    "\n",
    "for i in range(len(mensagem)):\n",
    "    for j in range(len(original)):\n",
    "        if(mensagem[i] == original[j]):\n",
    "            decod += equivalente[j]\n",
    "\n",
    "print(decod)"
   ]
  },
  {
   "cell_type": "code",
   "execution_count": null,
   "id": "442b4f02",
   "metadata": {},
   "outputs": [],
   "source": []
  }
 ],
 "metadata": {
  "kernelspec": {
   "display_name": "Python 3",
   "language": "python",
   "name": "python3"
  },
  "language_info": {
   "codemirror_mode": {
    "name": "ipython",
    "version": 3
   },
   "file_extension": ".py",
   "mimetype": "text/x-python",
   "name": "python",
   "nbconvert_exporter": "python",
   "pygments_lexer": "ipython3",
   "version": "3.8.8"
  }
 },
 "nbformat": 4,
 "nbformat_minor": 5
}
