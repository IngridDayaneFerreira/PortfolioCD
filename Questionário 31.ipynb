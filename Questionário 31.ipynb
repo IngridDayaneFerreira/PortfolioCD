{
 "cells": [
  {
   "cell_type": "code",
   "execution_count": 1,
   "id": "11f421f1",
   "metadata": {},
   "outputs": [],
   "source": [
    "# Questão 1: Resposta (D)\n",
    "# Questão 2: Resposta (D)"
   ]
  },
  {
   "cell_type": "code",
   "execution_count": 47,
   "id": "c350f89f",
   "metadata": {},
   "outputs": [
    {
     "name": "stdout",
     "output_type": "stream",
     "text": [
      "(-69.97201814938155, -74.9876368633611, -65.06511308359781)\n"
     ]
    },
    {
     "name": "stderr",
     "output_type": "stream",
     "text": [
      "<ipython-input-47-8713d70d383b>:11: SettingWithCopyWarning: \n",
      "A value is trying to be set on a copy of a slice from a DataFrame\n",
      "\n",
      "See the caveats in the documentation: https://pandas.pydata.org/pandas-docs/stable/user_guide/indexing.html#returning-a-view-versus-a-copy\n",
      "  dados['temp'][i] = (dados['temp'][i-1] + dados['temp'][i-2] + dados['temp'][i-3]) / 3\n"
     ]
    }
   ],
   "source": [
    "# Questão 3: Resposta (D)\n",
    "import numpy as np\n",
    "import pandas as pd\n",
    "\n",
    "dados = pd.read_csv(\"https://raw.githubusercontent.com/gcpeixoto/ICD/main/database/mars-temp-2022-06.csv\")\n",
    "\n",
    "dados['temp'].fillna(0, inplace=True)\n",
    "\n",
    "for i in range (30):\n",
    "    if (dados['temp'][i] == 0):\n",
    "        dados['temp'][i] = (dados['temp'][i-1] + dados['temp'][i-2] + dados['temp'][i-3]) / 3\n",
    "\n",
    "media = dados['temp'].mean()\n",
    "maximo = np.max(dados['temp'])\n",
    "minimo = np.min(dados['temp'])\n",
    "\n",
    "print((media, minimo, maximo))"
   ]
  },
  {
   "cell_type": "code",
   "execution_count": null,
   "id": "53ab4467",
   "metadata": {},
   "outputs": [],
   "source": []
  },
  {
   "cell_type": "code",
   "execution_count": null,
   "id": "dbbbfcc8",
   "metadata": {},
   "outputs": [],
   "source": []
  },
  {
   "cell_type": "code",
   "execution_count": null,
   "id": "e56af6e4",
   "metadata": {},
   "outputs": [],
   "source": []
  }
 ],
 "metadata": {
  "kernelspec": {
   "display_name": "Python 3",
   "language": "python",
   "name": "python3"
  },
  "language_info": {
   "codemirror_mode": {
    "name": "ipython",
    "version": 3
   },
   "file_extension": ".py",
   "mimetype": "text/x-python",
   "name": "python",
   "nbconvert_exporter": "python",
   "pygments_lexer": "ipython3",
   "version": "3.8.8"
  }
 },
 "nbformat": 4,
 "nbformat_minor": 5
}
