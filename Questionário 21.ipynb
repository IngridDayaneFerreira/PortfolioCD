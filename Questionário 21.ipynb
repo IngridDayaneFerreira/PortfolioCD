{
 "cells": [
  {
   "cell_type": "code",
   "execution_count": 13,
   "id": "e5255e8d",
   "metadata": {},
   "outputs": [
    {
     "name": "stdout",
     "output_type": "stream",
     "text": [
      "Radiais: []\n",
      "Longitudinais: [101, 104, 110, 116]\n",
      "Transversais: [230]\n",
      "Diagonais: [361]\n",
      "De Ligacao: [405, 408, 412, 426, 427, 434]\n"
     ]
    }
   ],
   "source": [
    "# Questão 1\n",
    "\n",
    "brspb = [101,104,110,116,230,361,405,408,412,426,427,434]\n",
    "\n",
    "radiais = []\n",
    "longitudinais = []\n",
    "transversais = []\n",
    "diagonais = []\n",
    "ligacao = []\n",
    "\n",
    "for i in range(len(brspb)):\n",
    "    y = brspb[i]\n",
    "    x = y / 100\n",
    "    if (x <= 1):\n",
    "        radiais.append(brspb[i])\n",
    "    elif (x <= 2):\n",
    "        longitudinais.append(brspb[i])\n",
    "    elif (x <= 3):\n",
    "        transversais.append(brspb[i])\n",
    "    elif (x <= 4):\n",
    "        diagonais.append(brspb[i])\n",
    "    elif (x <= 5):\n",
    "        ligacao.append(brspb[i])\n",
    "        \n",
    "print(f\"Radiais: {radiais}\\nLongitudinais: {longitudinais}\\nTransversais: {transversais}\\nDiagonais: {diagonais}\\nDe Ligacao: {ligacao}\")"
   ]
  },
  {
   "cell_type": "code",
   "execution_count": 3,
   "id": "0517a45f",
   "metadata": {},
   "outputs": [
    {
     "name": "stdout",
     "output_type": "stream",
     "text": [
      "Solar 1\n",
      "Derivados de Petróleo 2\n",
      "Nuclear 2.5\n",
      "Carvao e derivados 3.3\n",
      "Biomassa 8.4\n",
      "Eolica 8.6\n",
      "Gas Natural 9.3\n",
      "Hidraulica 64.9\n"
     ]
    }
   ],
   "source": [
    "#Questão 2\n",
    "\n",
    "energy = {'Biomassa':8.4, 'Eolica':8.6, 'Solar':1, 'Gas Natural':9.3, 'Derivados de Petróleo':2, 'Nuclear':2.5, 'Carvao e derivados': 3.3, 'Hidraulica':64.9}\n",
    "\n",
    "listaenergia = []\n",
    "for i in sorted(energy, key = energy.get):\n",
    "    print(i, energy[i])\n",
    "    "
   ]
  },
  {
   "cell_type": "code",
   "execution_count": 4,
   "id": "aa918f6a",
   "metadata": {},
   "outputs": [
    {
     "name": "stdout",
     "output_type": "stream",
     "text": [
      "[68581093450, 25995741643, 57529102265, 73126840536, 15905286856, 88039947847, 54429577243, 93019478645, 51775415282, 64042892375, 21221880666, 76692463306, 66439432656, 42327558469, 61589781627, 81359433689, 27285430081, 24927304478, 23959506537, 30389438863]\n"
     ]
    },
    {
     "ename": "NameError",
     "evalue": "name 'cpf_validados' is not defined",
     "output_type": "error",
     "traceback": [
      "\u001b[1;31m---------------------------------------------------------------------------\u001b[0m",
      "\u001b[1;31mNameError\u001b[0m                                 Traceback (most recent call last)",
      "\u001b[1;32m<ipython-input-4-c90773d57b04>\u001b[0m in \u001b[0;36m<module>\u001b[1;34m\u001b[0m\n\u001b[0;32m     50\u001b[0m             \u001b[0mcpf_validados\u001b[0m\u001b[1;33m[\u001b[0m\u001b[0my\u001b[0m\u001b[1;33m]\u001b[0m \u001b[1;33m=\u001b[0m \u001b[1;34m'Bahia - Sergipe'\u001b[0m\u001b[1;33m\u001b[0m\u001b[1;33m\u001b[0m\u001b[0m\n\u001b[0;32m     51\u001b[0m         \u001b[1;32melif\u001b[0m \u001b[1;33m(\u001b[0m\u001b[0mcpfstr\u001b[0m\u001b[1;33m[\u001b[0m\u001b[1;36m8\u001b[0m\u001b[1;33m]\u001b[0m \u001b[1;33m==\u001b[0m \u001b[1;34m'6'\u001b[0m\u001b[1;33m)\u001b[0m\u001b[1;33m:\u001b[0m\u001b[1;33m\u001b[0m\u001b[1;33m\u001b[0m\u001b[0m\n\u001b[1;32m---> 52\u001b[1;33m             \u001b[0mcpf_validados\u001b[0m\u001b[1;33m[\u001b[0m\u001b[0my\u001b[0m\u001b[1;33m]\u001b[0m \u001b[1;33m=\u001b[0m \u001b[1;34m'Minas Gerais'\u001b[0m\u001b[1;33m\u001b[0m\u001b[1;33m\u001b[0m\u001b[0m\n\u001b[0m\u001b[0;32m     53\u001b[0m         \u001b[1;32melif\u001b[0m \u001b[1;33m(\u001b[0m\u001b[0mcpfstr\u001b[0m\u001b[1;33m[\u001b[0m\u001b[1;36m8\u001b[0m\u001b[1;33m]\u001b[0m \u001b[1;33m==\u001b[0m \u001b[1;34m'7'\u001b[0m\u001b[1;33m)\u001b[0m\u001b[1;33m:\u001b[0m\u001b[1;33m\u001b[0m\u001b[1;33m\u001b[0m\u001b[0m\n\u001b[0;32m     54\u001b[0m             \u001b[0mcpf_validados\u001b[0m\u001b[1;33m[\u001b[0m\u001b[0my\u001b[0m\u001b[1;33m]\u001b[0m \u001b[1;33m=\u001b[0m \u001b[1;34m'Rio de Janeiro - Espirito Santo'\u001b[0m\u001b[1;33m\u001b[0m\u001b[1;33m\u001b[0m\u001b[0m\n",
      "\u001b[1;31mNameError\u001b[0m: name 'cpf_validados' is not defined"
     ]
    }
   ],
   "source": [
    "#Questão 3\n",
    "\n",
    "import random \n",
    "def random_cpf(n):\n",
    "    random.seed(38)\n",
    "    cpf = []    \n",
    "    for _ in range(n):              \n",
    "        n = random.randrange(10000000000,99999999999)\n",
    "        cpf.append(n)\n",
    "    return cpf \n",
    "\n",
    "x = random_cpf(20)\n",
    "\n",
    "print(x)\n",
    "\n",
    "for i in range(20):\n",
    "    cpf_val = {}\n",
    "    cpf_inval = []\n",
    "    y = x[i]\n",
    "    \n",
    "    d1 = y // 10000000000 % 10\n",
    "    d2 = y // 1000000000 % 10\n",
    "    d3 = y // 100000000 % 10\n",
    "    d4 = y // 10000000 % 10\n",
    "    d5 = y // 1000000 % 10\n",
    "    d6 = y // 100000 % 10\n",
    "    d7 = y // 10000 % 10\n",
    "    d8 = y // 1000 % 10\n",
    "    d9 = y // 100 % 10\n",
    "    d10 = y // 10 % 10\n",
    "    d11 = y // 1 % 10\n",
    "    \n",
    "    soma = d1+d2+d3+d4+d5+d6+d7+d8+d9+d10+d11\n",
    "    validacao = soma % 11\n",
    "    \n",
    "    if(validacao != 0):\n",
    "        cpf_inval.append(y)\n",
    "        \n",
    "    else:\n",
    "        cpfstr = str(y)\n",
    "        if (cpfstr[8] == '0'):\n",
    "            cpf_validados[y] = 'Rio grande do Sul'\n",
    "        elif (cpfstr[8] == '1'):\n",
    "            cpf_validados[y] = 'Distrito Federal - Goias - Mato Grosso - Mato Grosso do Sul - Tocantins'\n",
    "        elif (cpfstr[8] == '2'):\n",
    "            cpf_validados[y] = 'Para - Amazonas - Acre - Amapa - Rondonia - Roraima'\n",
    "        elif (cpfstr[8] == '3'):\n",
    "            cpf_validados[y] = 'Ceara - Maranhao - Piaui'\n",
    "        elif (cpfstr[8] == '4'):\n",
    "            cpf_validados[y] = 'Pernambuco - Rio Grande do Norte - Paraiba - Alagoas'\n",
    "        elif (cpfstr[8] == '5'):\n",
    "            cpf_validados[y] = 'Bahia - Sergipe'\n",
    "        elif (cpfstr[8] == '6'):\n",
    "            cpf_validados[y] = 'Minas Gerais'\n",
    "        elif (cpfstr[8] == '7'):\n",
    "            cpf_validados[y] = 'Rio de Janeiro - Espirito Santo'\n",
    "        elif (cpfstr[8] == '8'):\n",
    "            cpf_validados[y] = 'São Paulo'\n",
    "        elif (cpfstr[8] == '9'):\n",
    "            cpf_validados[y] = 'Parana - Santa Catarina'\n",
    "\n",
    "   \n",
    "print(f\"CPF\\'s invalidados: {cpf_invalidados}\\nCPF\\'s Validados: {cpf_validados}\")"
   ]
  },
  {
   "cell_type": "code",
   "execution_count": null,
   "id": "c3037830",
   "metadata": {},
   "outputs": [],
   "source": []
  }
 ],
 "metadata": {
  "kernelspec": {
   "display_name": "Python 3",
   "language": "python",
   "name": "python3"
  },
  "language_info": {
   "codemirror_mode": {
    "name": "ipython",
    "version": 3
   },
   "file_extension": ".py",
   "mimetype": "text/x-python",
   "name": "python",
   "nbconvert_exporter": "python",
   "pygments_lexer": "ipython3",
   "version": "3.8.8"
  }
 },
 "nbformat": 4,
 "nbformat_minor": 5
}
