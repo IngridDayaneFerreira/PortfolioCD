{
 "cells": [
  {
   "cell_type": "code",
   "execution_count": 7,
   "id": "09d345ff",
   "metadata": {},
   "outputs": [],
   "source": [
    "#Respostas\n",
    "\n",
    "#Questão 1: Letra C\n",
    "#Questão 2: Letra B\n",
    "#Questão 3: Letra A"
   ]
  },
  {
   "cell_type": "code",
   "execution_count": 8,
   "id": "24a7690e",
   "metadata": {},
   "outputs": [
    {
     "data": {
      "text/plain": [
       "[2215, 2175, 2091, 2169, 1999, 2184]"
      ]
     },
     "execution_count": 8,
     "metadata": {},
     "output_type": "execute_result"
    }
   ],
   "source": [
    "#Questão 1\n",
    "\n",
    "from urllib.request import urlopen\n",
    "from bs4 import BeautifulSoup\n",
    "import re\n",
    "\n",
    "def decrypt(Hash):\n",
    "    return sum(map(lambda x: ord(x),Hash))\n",
    "\n",
    "html = urlopen(\"https://www.gov.br/economia/pt-br/assuntos/processo-eletronico-nacional/conteudo/barramento-de-servicos/relacao-dos-orgaos-e-entidades\")\n",
    "beaut_s = BeautifulSoup(html.read(),\"html.parser\")\n",
    "head = beaut_s.head\n",
    "\n",
    "links_cachekays = head.find_all(\"link\")\n",
    "cachekeys = re.findall(\"\\w{32}\", str(links_cachekays))\n",
    "\n",
    "quad_derr_fire = []\n",
    "for i in cachekeys:\n",
    "    quad_derr_fire.append(decrypt(i))\n",
    "    \n",
    "quad_derr_fire "
   ]
  },
  {
   "cell_type": "code",
   "execution_count": 9,
   "id": "8bede8b7",
   "metadata": {},
   "outputs": [
    {
     "data": {
      "text/plain": [
       "505"
      ]
     },
     "execution_count": 9,
     "metadata": {},
     "output_type": "execute_result"
    }
   ],
   "source": [
    "#Questão 2\n",
    "\n",
    "body = bs.body\n",
    "\n",
    "tags = body.find_all(\"a\")\n",
    "links = re.findall(\"https://www.gov.br/economia/pt-br\", str(tags))\n",
    "\n",
    "len(links)"
   ]
  },
  {
   "cell_type": "code",
   "execution_count": 10,
   "id": "b3439125",
   "metadata": {},
   "outputs": [
    {
     "data": {
      "text/plain": [
       "5848"
      ]
     },
     "execution_count": 10,
     "metadata": {},
     "output_type": "execute_result"
    }
   ],
   "source": [
    "#Questão 3\n",
    "\n",
    "cont_descend = 0\n",
    "for i in body.descendants:\n",
    "    cont_descend += 1\n",
    "    \n",
    "cont_descend"
   ]
  },
  {
   "cell_type": "code",
   "execution_count": null,
   "id": "f0e899e1",
   "metadata": {},
   "outputs": [],
   "source": []
  }
 ],
 "metadata": {
  "kernelspec": {
   "display_name": "Python 3",
   "language": "python",
   "name": "python3"
  },
  "language_info": {
   "codemirror_mode": {
    "name": "ipython",
    "version": 3
   },
   "file_extension": ".py",
   "mimetype": "text/x-python",
   "name": "python",
   "nbconvert_exporter": "python",
   "pygments_lexer": "ipython3",
   "version": "3.8.8"
  }
 },
 "nbformat": 4,
 "nbformat_minor": 5
}
