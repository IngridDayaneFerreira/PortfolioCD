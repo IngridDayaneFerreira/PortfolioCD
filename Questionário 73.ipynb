{
 "cells": [
  {
   "cell_type": "code",
   "execution_count": 5,
   "id": "818190d2",
   "metadata": {},
   "outputs": [],
   "source": [
    "#Respostas\n",
    "\n",
    "#Questão 1: Letra D\n",
    "#Questão 2: Letra D\n",
    "#Questão 3: Letra C"
   ]
  },
  {
   "cell_type": "code",
   "execution_count": 3,
   "id": "3136024f",
   "metadata": {},
   "outputs": [
    {
     "data": {
      "text/plain": [
       "(14, 38)"
      ]
     },
     "execution_count": 3,
     "metadata": {},
     "output_type": "execute_result"
    }
   ],
   "source": [
    "#Questão 1\n",
    "\n",
    "import networkx as nx\n",
    "import pandas as pd\n",
    "from urllib.request import urlopen\n",
    "from bs4 import BeautifulSoup\n",
    "\n",
    "def get_table_head(t):\n",
    "    res = []\n",
    "    thead = t.find('thead')\n",
    "    th = thead.find_all('th')\n",
    "    for f in th:\n",
    "        res.append(f.getText().strip())\n",
    "    return res\n",
    "\n",
    "def get_table_body(t):\n",
    "    res = []\n",
    "    tbody = t.find('tbody')\n",
    "    tr = tbody.find_all('tr')\n",
    "    for row in tr:\n",
    "        this_row = []\n",
    "        row_fields = row.find_all('td')\n",
    "        for f in row_fields:\n",
    "            this_row.append(f.getText().strip())\n",
    "            res.append(this_row)\n",
    "    return res\n",
    "\n",
    "html = urlopen(\"https://www.iban.com/country-codes\")\n",
    "beaut_s = BeautifulSoup(html.read(),\"html.parser\")\n",
    "body = beaut_s.body\n",
    "t_header = get_table_head(body.div)\n",
    "t_body = get_table_body(body.div)\n",
    "\n",
    "df = pd.DataFrame(t_body, columns = t_header)\n",
    "\n",
    "arquivo = \"paises-acordo-bilateral.txt\"\n",
    "with open(arquivo, 'r', errors = 'ignore') as file:\n",
    "    arq_saida = open(\"paises-acordo-bilateral-IBAN.txt\", 'w')\n",
    "    for line in file:\n",
    "        relacao = line.split(\",\")\n",
    "        relacao[1] = relacao[1].split(\"\\n\")[0]\n",
    "        code_pais1 = df[\"Alpha-3 code\"][df[df[\"Country\"] == relacao[0]].index.tolist()[0]]\n",
    "        code_pais2 = df[\"Alpha-3 code\"][df[df[\"Country\"] == relacao[1]].index.tolist()[0]]\n",
    "        arq_saida.writelines(\"%s,%s\\n\" % (code_pais1, code_pais2))\n",
    "\n",
    "grafo = nx.read_edgelist(\"paises-acordo-bilateral-IBAN.txt\", delimiter= \",\")\n",
    "\n",
    "len(grafo.nodes), len(grafo.edges)"
   ]
  },
  {
   "cell_type": "code",
   "execution_count": 4,
   "id": "c1ac1002",
   "metadata": {
    "scrolled": true
   },
   "outputs": [
    {
     "data": {
      "text/plain": [
       "['ZAF', 'IND', 'NLD']"
      ]
     },
     "execution_count": 4,
     "metadata": {},
     "output_type": "execute_result"
    }
   ],
   "source": [
    "#QUuestão 2\n",
    "\n",
    "degree = nx.degree_centrality(grafo)\n",
    "\n",
    "paises_degree = []\n",
    "for i in range(len(list(degree.values()))):\n",
    "    if list(degree.values())[i] == min(list(degree.values())):\n",
    "        paises_degree.append(list(degree.keys())[i])\n",
    "\n",
    "paises_degree"
   ]
  },
  {
   "cell_type": "code",
   "execution_count": 5,
   "id": "08d21a8a",
   "metadata": {},
   "outputs": [
    {
     "data": {
      "text/plain": [
       "['DEU']"
      ]
     },
     "execution_count": 5,
     "metadata": {},
     "output_type": "execute_result"
    }
   ],
   "source": [
    "#QUESTÃO 3\n",
    "\n",
    "bet = nx.betweenness_centrality(grafo)\n",
    "\n",
    "paises_bet = []\n",
    "for i in range(len(list(bet.values()))):\n",
    "    if list(bet.values())[i] == max(list(bet.values())):\n",
    "        paises_bet.append(list(bet.keys())[i])\n",
    "\n",
    "paises_bet"
   ]
  },
  {
   "cell_type": "code",
   "execution_count": null,
   "id": "997d5ebb",
   "metadata": {},
   "outputs": [],
   "source": []
  }
 ],
 "metadata": {
  "kernelspec": {
   "display_name": "Python 3",
   "language": "python",
   "name": "python3"
  },
  "language_info": {
   "codemirror_mode": {
    "name": "ipython",
    "version": 3
   },
   "file_extension": ".py",
   "mimetype": "text/x-python",
   "name": "python",
   "nbconvert_exporter": "python",
   "pygments_lexer": "ipython3",
   "version": "3.8.8"
  }
 },
 "nbformat": 4,
 "nbformat_minor": 5
}
