{
 "cells": [
  {
   "cell_type": "code",
   "execution_count": 61,
   "id": "c5ea7cdd",
   "metadata": {},
   "outputs": [
    {
     "name": "stdout",
     "output_type": "stream",
     "text": [
      "(7, 12)\n"
     ]
    }
   ],
   "source": [
    "#questão 1\n",
    "\n",
    "import numpy as np\n",
    "\n",
    "def imc (m, a):\n",
    "    imc = m / (a**2)\n",
    "    return imc\n",
    "\n",
    "copa = np.load('copa2018.npy', allow_pickle = True)\n",
    "#print(copa)\n",
    "\n",
    "nome = []\n",
    "altura = []\n",
    "idade = []\n",
    "peso = []\n",
    "\n",
    "for i in range (len(copa)):\n",
    "    nome.append(copa[i][0])\n",
    "    peso.append(copa[i][1])\n",
    "    altura.append(copa[i][2])\n",
    "    idade.append(copa[i][3])\n",
    "#print(nome, peso, altura, idade)\n",
    "\n",
    "dados = {}\n",
    "imc_individual = {}\n",
    "for j in range (len(nome)):\n",
    "    dados[nome[j]] = [peso[j], altura[j], idade[j]]\n",
    "    imc_individual[nome[j]] = imc (peso[j], altura[j])\n",
    "#print(dados)\n",
    "#print(imc_individual)\n",
    "\n",
    "abaixo = 0\n",
    "acima = 0\n",
    "for k in range (len(imc_individual)):\n",
    "    if (imc_individual[nome[k]] < 21.7):\n",
    "        abaixo += 1\n",
    "    elif (imc_individual[nome[k]] > 21.9 ):\n",
    "        acima += 1\n",
    "print((abaixo, acima))"
   ]
  },
  {
   "cell_type": "code",
   "execution_count": 65,
   "id": "37240011",
   "metadata": {},
   "outputs": [
    {
     "name": "stdout",
     "output_type": "stream",
     "text": [
      "2018: 4992720.9375 - 2022: 4824820.9375 - 2024: 4740870.9375\n"
     ]
    }
   ],
   "source": [
    "#Questão 2\n",
    "\n",
    "def taxa_metab_basal (m, a, i):\n",
    "    tmb = (10 * m) + (6.25 * a) - (5 * i) + 5\n",
    "    return tmb\n",
    "\n",
    "tmb2018 = 0\n",
    "tmb2022 = 0\n",
    "tmb2024 = 0\n",
    "for x in range (len (nome)):\n",
    "    tmb2018 += taxa_metab_basal (peso[x], altura[x], idade[x]) * 365\n",
    "    tmb2022 += (taxa_metab_basal (peso[x], altura[x], idade[x]+4) * 365)\n",
    "    tmb2024 += (taxa_metab_basal (peso[x], altura[x], idade[x]+6) * 365)\n",
    "\n",
    "print(f\"2018: {tmb2018} - 2022: {tmb2022} - 2024: {tmb2024}\")"
   ]
  },
  {
   "cell_type": "code",
   "execution_count": 55,
   "id": "0baf4b5a",
   "metadata": {},
   "outputs": [
    {
     "name": "stdout",
     "output_type": "stream",
     "text": [
      "('Cássio', 'Fred')\n"
     ]
    }
   ],
   "source": [
    "#Questão 3\n",
    "\n",
    "from operator import itemgetter\n",
    "\n",
    "def velocidade_bola (mp):\n",
    "    vp = 20\n",
    "    mb = 0.4\n",
    "    e = 0.7\n",
    "    vb = vp * (mp / (mp + mb)) * (1 + e)\n",
    "    return vb\n",
    "\n",
    "def alcance (vb):\n",
    "    g = 9.8\n",
    "    a = (vb ** 2 * np.sin((np.pi/4) * 2)) / g\n",
    "    return a\n",
    "\n",
    "massa_perna = {}\n",
    "for m in range (len(nome)):\n",
    "    massa_perna[nome[m]] = peso[m] * 0.2\n",
    "    \n",
    "#print(massa_perna)\n",
    "\n",
    "vel_bola = {}\n",
    "for y in range (len(nome)):\n",
    "    vel_bola[nome[y]] = velocidade_bola(massa_perna[nome[y]])\n",
    "    \n",
    "#print(vel_bola)\n",
    "\n",
    "wfk = {}\n",
    "for z in range (len(nome)):\n",
    "    wfk[nome[z]] = alcance(vel_bola[nome[z]])     \n",
    "print((max(wfk, key=wfk.get), min(wfk, key=wfk.get)))"
   ]
  },
  {
   "cell_type": "code",
   "execution_count": null,
   "id": "1698c573",
   "metadata": {},
   "outputs": [],
   "source": []
  },
  {
   "cell_type": "code",
   "execution_count": null,
   "id": "ea1d17b1",
   "metadata": {},
   "outputs": [],
   "source": []
  }
 ],
 "metadata": {
  "kernelspec": {
   "display_name": "Python 3",
   "language": "python",
   "name": "python3"
  },
  "language_info": {
   "codemirror_mode": {
    "name": "ipython",
    "version": 3
   },
   "file_extension": ".py",
   "mimetype": "text/x-python",
   "name": "python",
   "nbconvert_exporter": "python",
   "pygments_lexer": "ipython3",
   "version": "3.8.8"
  }
 },
 "nbformat": 4,
 "nbformat_minor": 5
}
