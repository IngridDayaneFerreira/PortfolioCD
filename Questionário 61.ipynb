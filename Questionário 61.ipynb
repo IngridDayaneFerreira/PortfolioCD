{
 "cells": [
  {
   "cell_type": "code",
   "execution_count": null,
   "id": "de414bff",
   "metadata": {},
   "outputs": [],
   "source": [
    "#Respostas\n",
    "\n",
    "#Questão 1: Letra C\n",
    "#Questão 2: Letra C\n",
    "#Questão 3: Letra B"
   ]
  },
  {
   "cell_type": "code",
   "execution_count": null,
   "id": "3ba1009e",
   "metadata": {},
   "outputs": [],
   "source": [
    "#Questão 2\n",
    "\n",
    "x = syp.symbols('x')\n",
    "init_printing(use_unicode=True)"
   ]
  },
  {
   "cell_type": "code",
   "execution_count": null,
   "id": "8cd56364",
   "metadata": {},
   "outputs": [],
   "source": [
    "derf2 = syp.diff( ((1.0 / (((x-0.5)**2) + 0.01)) - (1.0 / (((x-0.8)**2) + 0.04)) - 70) , x)\n",
    "derf2"
   ]
  },
  {
   "cell_type": "code",
   "execution_count": null,
   "id": "f8d565f7",
   "metadata": {},
   "outputs": [],
   "source": [
    "derf2.subs(x, 0)"
   ]
  },
  {
   "cell_type": "code",
   "execution_count": null,
   "id": "958ec721",
   "metadata": {},
   "outputs": [],
   "source": [
    "#Questão 3\n",
    "x = syp.symbols('x')\n",
    "init_printing(use_unicode=True)"
   ]
  },
  {
   "cell_type": "code",
   "execution_count": null,
   "id": "f85ab3a8",
   "metadata": {},
   "outputs": [],
   "source": [
    "from math import radians, e, pi\n",
    "\n",
    "derf3 = syp.diff(  (-(1 /((e**x)  * syp.sin(6*x)))) , x)\n",
    "derf3"
   ]
  },
  {
   "cell_type": "code",
   "execution_count": null,
   "id": "058cc641",
   "metadata": {},
   "outputs": [],
   "source": []
  }
 ],
 "metadata": {
  "kernelspec": {
   "display_name": "Python 3",
   "language": "python",
   "name": "python3"
  },
  "language_info": {
   "codemirror_mode": {
    "name": "ipython",
    "version": 3
   },
   "file_extension": ".py",
   "mimetype": "text/x-python",
   "name": "python",
   "nbconvert_exporter": "python",
   "pygments_lexer": "ipython3",
   "version": "3.8.8"
  }
 },
 "nbformat": 4,
 "nbformat_minor": 5
}
