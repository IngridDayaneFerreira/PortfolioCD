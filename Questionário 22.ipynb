{
 "cells": [
  {
   "cell_type": "code",
   "execution_count": 28,
   "id": "ef68e56a",
   "metadata": {},
   "outputs": [
    {
     "name": "stdout",
     "output_type": "stream",
     "text": [
      "Em algum lugar, algo incrível está esperando para ser descoberto.\n"
     ]
    }
   ],
   "source": [
    "#Questão 1\n",
    "\n",
    "x = ' 0x45 0x6d 0x20 0x61 0x6c 0x67 0x75 0x6d 0x20 0x6c 0x75 0x67 0x61 0x72 0x2c 0x20 0x61 0x6c 0x67 0x6f 0x20 0x69 0x6e 0x63 0x72 0xed 0x76 0x65 0x6c 0x20 0x65 0x73 0x74 0xe1 0x20 0x65 0x73 0x70 0x65 0x72 0x61 0x6e 0x64 0x6f 0x20 0x70 0x61 0x72 0x61 0x20 0x73 0x65 0x72 0x20 0x64 0x65 0x73 0x63 0x6f 0x62 0x65 0x72 0x74 0x6f 0x2e'\n",
    "\n",
    "x = x.replace('0x','')\n",
    "\n",
    "decod = bytearray.fromhex(x)\n",
    "print(decod.decode(encoding='latin-1'))\n",
    "\n",
    "\n",
    "    "
   ]
  },
  {
   "cell_type": "code",
   "execution_count": 1,
   "id": "9cd0ec16",
   "metadata": {},
   "outputs": [
    {
     "name": "stdout",
     "output_type": "stream",
     "text": [
      "O aluguel total a pagar e': R$6925.75\n",
      "O total do cartao e': R$ %.2f 7882.793907927266\n",
      "O total que Jonas terá que desembolsar e': %.2f 14808.543907927266\n"
     ]
    }
   ],
   "source": [
    "#Questão 2\n",
    "\n",
    "aluguel = 6500.00\n",
    "cartao = 7234.77\n",
    "\n",
    "#cálculo aluguel com juros\n",
    "alugueltotal = aluguel + (aluguel * 0.0625) + ((aluguel * 0.00025) * 12)\n",
    "print(f\"O aluguel total a pagar e': R${alugueltotal}\")\n",
    "\n",
    "#calculando o cartão\n",
    "cartaototal = cartao + (cartao * 0.0144)\n",
    "for i in range(5):\n",
    "    cartaototal += cartaototal * 0.0144\n",
    "print(\"O total do cartao e': R$ %.2f\", cartaototal)\n",
    "\n",
    "#Calculando o total geral\n",
    "total = alugueltotal + cartaototal\n",
    "print(\"O total que Jonas terá que desembolsar e': %.2f\", total)"
   ]
  },
  {
   "cell_type": "code",
   "execution_count": 2,
   "id": "571d47d1",
   "metadata": {},
   "outputs": [
    {
     "name": "stdout",
     "output_type": "stream",
     "text": [
      "({'HIPERTENSÃO': 6, 'DIABETES': 6, 'ASMA': 8}, (20, 15), 7)\n"
     ]
    }
   ],
   "source": [
    "#Questão 3\n",
    "\n",
    "tabela = {'medicamento' : [\"ATENOLOL 25MG\", \"CAPTOPRIL 25MG\", \"CLORIDRATO DE PROPRANOLOL 40MG\", \"HIDROCLOROTIAZIDA 25MG\", \n",
    "               \"LOSARTANA POTÁSSICA 50Mg\", \"MALEATO DE ENALAPRIL 10MG\", \"GLIBENCLAMIDA 5MG\", \"CLORIDRATO DE METFORMINA 500MG\",\n",
    "               \"CLORIDRATO DE METFORMINA 500MG – AÇÃO PROLONGADA\", \"CLORIDRATO DE METFORMINA 850MG\", \"INSULINA HUMANA 100UI/ML\",\n",
    "               \"INSULINA HUMANA REGULAR 100UI/ML\", \"SULFATO DE SALBUTAMOL 5MG\", \"SULFATO DE SALBUTAMOL 100MCG\", \"DIPROPIONATO DE BECLOMETASONA 50MCG\",\n",
    "               \"DIPROPIONATO DE BECLOMETASONA 200MCG/DOSE\\\",n\",\"DIPROPIONATO DE BECLOMETASONA 200MCG/CÁPSULA\\\"\",\"DIPROPIONATO DE BECLOMETASONA 250MCG\",\n",
    "               \"BROMETO DE IPRATRÓPIO 0,25MG/ML\", \"BROMETO DE IPRATRÓPIO 0,02MG/DOSE\\\"\", \"ACETATO DE MEDROXIPROGESTERONA 150MG\",\n",
    "               \"ETINILESTRADIOL 0,03MG + LEVONORGESTREL 0,15MG\", \"NORETISTERONA 0,35MG\", \"VALERATO DE ESTRADIOL 5MG + ENANTATO DE NORETISTERONA 50MG\",\n",
    "               \"SINVASTATINA 10MG\", \"SINVASTATINA 20MG\", \"SINVASTATINA 40MG\", \"BUDESONIDA 32MCG\", \"BUDESONIDA 50MCG\", \"DIPROPIONATO DE BECLOMETASONA 50MCG\",\n",
    "               \"CARBIDOPA 25MG + LEVODOPA 250MG\", \"CLORIDRATO DE BENSERAZIDA 25MG + LEVODOPA 100MG\", \"ALENDRONATO DE SÓDIO 70MG\",\n",
    "               \"MALEATO DE TIMOLOL 2,5MG\", \"MALEATO DE TIMOLOL 5MG\"],\n",
    "    \n",
    "'doencaind' : [\"HIPERTENSÃO\", \"HIPERTENSÃO\", \"HIPERTENSÃO\", \"HIPERTENSÃO\", \"HIPERTENSÃO\", \"HIPERTENSÃO\",\"DIABETES\", \"DIABETES\",\n",
    "            \"DIABETES\", \"DIABETES\", \"DIABETES\", \"DIABETES\", \"ASMA\", \"ASMA\", \"ASMA\", \"ASMA\", \"ASMA\", \"ASMA\", \"ASMA\", \"ASMA\",\n",
    "            \"ANTICONCEPÇÃO\", \"ANTICONCEPÇÃO\", \"ANTICONCEPÇÃO\", \"ANTICONCEPÇÃO\", \"DISLIPIDEMIA\", \"DISLIPIDEMIA\", \"DISLIPIDEMIA\",\n",
    "            \"RINITE\", \"RINITE\", \"RINITE\", \"DOENÇA DE PARKINSON\", \"DOENÇA DE PARKINSON\", \"OSTEOPOROSE\", \"GLAUCOMA\", \"GLAUCOMA\"],\n",
    "\n",
    "'pagamento' : [\"GRATUIDADE\", \"GRATUIDADE\", \"GRATUIDADE\", \"GRATUIDADE\", \"GRATUIDADE\", \"GRATUIDADE\",\"GRATUIDADE\", \"GRATUIDADE\",\n",
    "            \"GRATUIDADE\", \"GRATUIDADE\", \"GRATUIDADE\", \"GRATUIDADE\",\"GRATUIDADE\", \"GRATUIDADE\", \"GRATUIDADE\", \"GRATUIDADE\",\n",
    "            \"GRATUIDADE\", \"GRATUIDADE\", \"GRATUIDADE\", \"GRATUIDADE\", \"COPAGAMENTO\", \"COPAGAMENTO\", \"COPAGAMENTO\", \"COPAGAMENTO\",\n",
    "            \"COPAGAMENTO\", \"COPAGAMENTO\", \"COPAGAMENTO\", \"COPAGAMENTO\", \"COPAGAMENTO\", \"COPAGAMENTO\", \"COPAGAMENTO\", \n",
    "            \"COPAGAMENTO\", \"COPAGAMENTO\", \"COPAGAMENTO\", \"COPAGAMENTO\"]\n",
    "         }\n",
    "\n",
    "def verif_tabela (tabela):\n",
    "    #verificando para qual doença a maior quantidade de remédios na gratuidade é indicado\n",
    "    medgratis = []\n",
    "    for i in range(len(tabela['doencaind'])):\n",
    "        if (tabela['pagamento'][i] == \"GRATUIDADE\"):\n",
    "            medgratis.append(tabela['doencaind'][i])\n",
    "\n",
    "    contmedgratis = {}\n",
    "    for j in range(len(medgratis)):\n",
    "        cont = medgratis.count(medgratis[j])\n",
    "        if (medgratis[j] not in contmedgratis):\n",
    "            contmedgratis[medgratis[j]] = cont\n",
    "            \n",
    "    #verificando a quantidde de remédios nas classes de gratuidade e copagamento\n",
    "    contgrat = tabela['pagamento'].count(\"GRATUIDADE\")\n",
    "    contcop = tabela['pagamento'].count(\"COPAGAMENTO\")\n",
    "    tupla = (contgrat, contcop)\n",
    "    \n",
    "     #verificando quantos remédios tem a letra \"C\" como inicial do seu nome\n",
    "    contc = 0\n",
    "    for k in range(len(tabela['medicamento'])):\n",
    "        if (tabela['medicamento'][k][0] == \"C\"):\n",
    "            contc += 1\n",
    "    \n",
    "    return contmedgratis, tupla, contc\n",
    "    \n",
    "x = verif_tabela(tabela)\n",
    "print(x)\n",
    "    \n",
    "   "
   ]
  },
  {
   "cell_type": "code",
   "execution_count": null,
   "id": "f4144967",
   "metadata": {},
   "outputs": [],
   "source": []
  }
 ],
 "metadata": {
  "kernelspec": {
   "display_name": "Python 3",
   "language": "python",
   "name": "python3"
  },
  "language_info": {
   "codemirror_mode": {
    "name": "ipython",
    "version": 3
   },
   "file_extension": ".py",
   "mimetype": "text/x-python",
   "name": "python",
   "nbconvert_exporter": "python",
   "pygments_lexer": "ipython3",
   "version": "3.8.8"
  }
 },
 "nbformat": 4,
 "nbformat_minor": 5
}
